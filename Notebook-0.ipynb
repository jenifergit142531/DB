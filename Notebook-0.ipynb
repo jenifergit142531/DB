{
    "metadata": {
        "kernelspec": {
            "name": "SQL",
            "display_name": "SQL",
            "language": "sql"
        },
        "language_info": {
            "name": "sql",
            "version": ""
        }
    },
    "nbformat_minor": 2,
    "nbformat": 4,
    "cells": [
        {
            "cell_type": "markdown",
            "source": [
                "dsged\n",
                "\n",
                "sgdf\n",
                "\n",
                "fdh\n",
                "\n",
                "gdh\n",
                "\n",
                "gh\n",
                "\n",
                "fdh\n",
                "\n",
                "gh\n",
                "\n",
                "gh\n",
                "\n",
                "dfh"
            ],
            "metadata": {
                "azdata_cell_guid": "0aa553ff-a4bd-48ca-8e17-51595d6b989a"
            },
            "attachments": {}
        }
    ]
}